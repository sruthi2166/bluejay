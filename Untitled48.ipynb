{
  "nbformat": 4,
  "nbformat_minor": 0,
  "metadata": {
    "colab": {
      "private_outputs": true,
      "provenance": []
    },
    "kernelspec": {
      "name": "python3",
      "display_name": "Python 3"
    },
    "language_info": {
      "name": "python"
    }
  },
  "cells": [
    {
      "cell_type": "code",
      "source": [
        "pip install pandas\n"
      ],
      "metadata": {
        "id": "pklvUan3wClt"
      },
      "execution_count": null,
      "outputs": []
    },
    {
      "cell_type": "code",
      "source": [
        "import pandas as pd\n",
        "\n",
        "def analyze_file(file_path):\n",
        "    # Read the spreadsheet\n",
        "    df = pd.read_csv(file_path)\n",
        "\n",
        "    # Assuming the file has columns: 'Employee Name', 'Position ID', 'Time', 'Time Out'\n",
        "    # You may need to adjust these column names based on the actual columns in your file.\n",
        "\n",
        "    # Convert 'Time' and 'Time Out' columns to datetime objects\n",
        "    df['Time'] = pd.to_datetime(df['Time'])\n",
        "    df['Time Out'] = pd.to_datetime(df['Time Out'])\n",
        "\n",
        "    # Sort the dataframe by 'Employee Name' and 'Time'\n",
        "    df = df.sort_values(by=['Employee Name', 'Time'])\n",
        "\n",
        "    # Iterate through rows and perform analysis\n",
        "    for index, row in df.iterrows():\n",
        "        employee_name = row['Employee Name']\n",
        "        position_id = row['Position ID']\n",
        "\n",
        "        # Your analysis logic for each condition\n",
        "        # a) who has worked for 7 consecutive days\n",
        "        # b) who have less than 10 hours of time between shifts but greater than 1 hour\n",
        "        # c) Who has worked for more than 14 hours in a single shift\n",
        "\n",
        "    # Print results to the console\n",
        "    print(\"Results:\")\n",
        "    # Print the name and position of employees who meet the conditions\n",
        "\n",
        "if __name__ == \"__main__\":\n",
        "    file_path = \"/content/Assignment_Timecard.xlsx - Sheet1.csv\"  # Update with the actual file path\n",
        "    analyze_file(file_path)\n",
        "\n",
        "\n",
        "#Make sure to replace `/content/Assignment_Timecard.xlsx - Sheet1.csv` with the actual path to your file. If the file is in the same directory as your script, you can simply use the file name without the full path."
      ],
      "metadata": {
        "id": "YuScjM6Bwryn"
      },
      "execution_count": null,
      "outputs": []
    },
    {
      "cell_type": "code",
      "source": [
        "if __name__ == \"__main__\":\n",
        "    file_path = \"/content/Assignment_Timecard.xlsx - Sheet1.csv\"  # Update with the actual file path\n",
        "    analyze_file(file_path)\n"
      ],
      "metadata": {
        "id": "xZmGL57wxQMP"
      },
      "execution_count": null,
      "outputs": []
    },
    {
      "cell_type": "code",
      "source": [
        "import sys\n",
        "\n",
        "if __name__ == \"__main__\":\n",
        "    file_path = \"/content/Assignment_Timecard.xlsx - Sheet1.csv\"  # Update with the actual file path\n",
        "\n",
        "    # Redirect stdout to a file\n",
        "    with open(\"output.txt\", \"w\") as f:\n",
        "        sys.stdout = f\n",
        "        analyze_file(file_path)\n",
        "\n",
        "    # Reset stdout to the console\n",
        "    sys.stdout = sys.__stdout__\n"
      ],
      "metadata": {
        "id": "fXmTWBfOxQPt"
      },
      "execution_count": null,
      "outputs": []
    }
  ]
}